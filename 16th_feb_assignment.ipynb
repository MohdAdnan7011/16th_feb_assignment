{
 "cells": [
  {
   "cell_type": "code",
   "execution_count": 1,
   "id": "bb3e5f1a",
   "metadata": {},
   "outputs": [
    {
     "data": {
      "text/plain": [
       "'A database is an organized collection of data that is stored\\nand accessed electronically. Databases are designed to efficiently store,\\nretrieve, and manage data, and they support various operations such as querying, updating, and managing the data.\\n\\nSQL Databases: Best for structured data with predefined schema and require ACID compliance for transactions.\\n    They use SQL for data manipulation.\\n    \\nNoSQL Databases: Best for unstructured or semi-structured data with flexible schema requirements.\\n    They provide high scalability and are suitable for distributed data stores.'"
      ]
     },
     "execution_count": 1,
     "metadata": {},
     "output_type": "execute_result"
    }
   ],
   "source": [
    "# Question no 1\n",
    "'''A database is an organized collection of data that is stored\n",
    "and accessed electronically. Databases are designed to efficiently store,\n",
    "retrieve, and manage data, and they support various operations such as querying, updating, and managing the data.\n",
    "\n",
    "SQL Databases: Best for structured data with predefined schema and require ACID compliance for transactions.\n",
    "    They use SQL for data manipulation.\n",
    "    \n",
    "NoSQL Databases: Best for unstructured or semi-structured data with flexible schema requirements.\n",
    "    They provide high scalability and are suitable for distributed data stores.'''"
   ]
  },
  {
   "cell_type": "code",
   "execution_count": 2,
   "id": "a42a437a",
   "metadata": {},
   "outputs": [
    {
     "data": {
      "text/plain": [
       "'DDL stands for Data Definition Language. It is a subset of SQL (Structured Query Language)\\nused to define and manage database structures, such as tables, indexes, and schemas.\\nDDL commands are used to create, modify, and delete these structures.\\n\\nCommon DDL Commands\\nCREATE\\nDROP\\nALTER\\nTRUNCATE\\n\\nCREATE: Used to create new database objects. Example: Creating a new table.\\nDROP: Used to delete existing database objects. Example: Dropping a table.\\nALTER: Used to modify the structure of existing database objects. Example: Adding or removing a column in a table.\\nTRUNCATE: Used to delete all rows from a table without deleting the table itself. Example: Clearing all data in a table.'"
      ]
     },
     "execution_count": 2,
     "metadata": {},
     "output_type": "execute_result"
    }
   ],
   "source": [
    "# Question no 2\n",
    "'''DDL stands for Data Definition Language. It is a subset of SQL (Structured Query Language)\n",
    "used to define and manage database structures, such as tables, indexes, and schemas.\n",
    "DDL commands are used to create, modify, and delete these structures.\n",
    "\n",
    "Common DDL Commands\n",
    "CREATE\n",
    "DROP\n",
    "ALTER\n",
    "TRUNCATE\n",
    "\n",
    "CREATE: Used to create new database objects. Example: Creating a new table.\n",
    "DROP: Used to delete existing database objects. Example: Dropping a table.\n",
    "ALTER: Used to modify the structure of existing database objects. Example: Adding or removing a column in a table.\n",
    "TRUNCATE: Used to delete all rows from a table without deleting the table itself. Example: Clearing all data in a table.'''"
   ]
  },
  {
   "cell_type": "code",
   "execution_count": 3,
   "id": "cf30dd82",
   "metadata": {},
   "outputs": [
    {
     "data": {
      "text/plain": [
       "'DML stands for Data Manipulation Language. It is a subset of SQL (Structured Query Language)\\nused to manage data within database objects such as tables. DML commands allow you to insert,\\nupdate, and delete data within the database.\\n\\nCommon DML Commands\\nINSERT\\nUPDATE\\nDELETE\\n\\nINSERT: Adds new rows to a table. Example: Adding a new employee record.\\nUPDATE: Modifies existing rows in a table. Example: Changing the salary of an existing employee.\\nDELETE: Removes rows from a table. Example: Deleting an employee record.'"
      ]
     },
     "execution_count": 3,
     "metadata": {},
     "output_type": "execute_result"
    }
   ],
   "source": [
    "# Question no 3\n",
    "\n",
    "'''DML stands for Data Manipulation Language. It is a subset of SQL (Structured Query Language)\n",
    "used to manage data within database objects such as tables. DML commands allow you to insert,\n",
    "update, and delete data within the database.\n",
    "\n",
    "Common DML Commands\n",
    "INSERT\n",
    "UPDATE\n",
    "DELETE\n",
    "\n",
    "INSERT: Adds new rows to a table. Example: Adding a new employee record.\n",
    "UPDATE: Modifies existing rows in a table. Example: Changing the salary of an existing employee.\n",
    "DELETE: Removes rows from a table. Example: Deleting an employee record.'''"
   ]
  },
  {
   "cell_type": "code",
   "execution_count": 4,
   "id": "7f8c80cd",
   "metadata": {},
   "outputs": [
    {
     "data": {
      "text/plain": [
       "'DQL stands for Data Query Language. It is a subset of SQL (Structured Query Language)\\nused for querying and retrieving data from a database. The primary command in DQL is SELECT,\\nwhich is used to fetch data from one or more tables.\\n\\nThe SELECT Command\\nPurpose: The SELECT command is used to retrieve data from a database.\\n    It allows you to specify the columns you want to retrieve, filter the data, sort it, and more.'"
      ]
     },
     "execution_count": 4,
     "metadata": {},
     "output_type": "execute_result"
    }
   ],
   "source": [
    "# Question no 4\n",
    "'''DQL stands for Data Query Language. It is a subset of SQL (Structured Query Language)\n",
    "used for querying and retrieving data from a database. The primary command in DQL is SELECT,\n",
    "which is used to fetch data from one or more tables.\n",
    "\n",
    "The SELECT Command\n",
    "Purpose: The SELECT command is used to retrieve data from a database.\n",
    "    It allows you to specify the columns you want to retrieve, filter the data, sort it, and more.'''"
   ]
  },
  {
   "cell_type": "code",
   "execution_count": 5,
   "id": "e621e42d",
   "metadata": {},
   "outputs": [
    {
     "data": {
      "text/plain": [
       "'Primary Key:\\n\\nA primary key is a column or a set of columns that uniquely identifies each row in a table.\\nIt must contain unique values and cannot have NULL values.\\n\\nForeign Key:\\n\\nA foreign key is a column or a set of columns in one table that refers to the primary key in another table.\\nIt establishes a link or relationship between two tables by enforcing referential integrity between them.'"
      ]
     },
     "execution_count": 5,
     "metadata": {},
     "output_type": "execute_result"
    }
   ],
   "source": [
    "# Question No 5\n",
    "'''Primary Key:\n",
    "\n",
    "A primary key is a column or a set of columns that uniquely identifies each row in a table.\n",
    "It must contain unique values and cannot have NULL values.\n",
    "\n",
    "Foreign Key:\n",
    "\n",
    "A foreign key is a column or a set of columns in one table that refers to the primary key in another table.\n",
    "It establishes a link or relationship between two tables by enforcing referential integrity between them.'''"
   ]
  },
  {
   "cell_type": "code",
   "execution_count": 7,
   "id": "b7075df9",
   "metadata": {},
   "outputs": [
    {
     "data": {
      "text/plain": [
       "'import mysql.connector\\n\\n\\nmydb = mysql.connector.connect(\\n    host=\"localhost\",\\n    user=\"abc\",\\n    password=\"password\",\\n    database=\"database\"\\n)\\n\\n# Creating a cursor object using cursor() method\\nmycursor = mydb.cursor()\\n\\n# Executing a SQL query using execute() method\\nmycursor.execute(\"SELECT * FROM test2.test_table\")\\n\\n# Fetching results from the executed query\\nresult = mycursor.fetchall()\\n\\n# Displaying the fetched results\\nfor i in result:\\n    print(i)\\n\\n# Closing the cursor and database connection\\nmycursor.close()\\nmydb.close()'"
      ]
     },
     "execution_count": 7,
     "metadata": {},
     "output_type": "execute_result"
    }
   ],
   "source": [
    "# Question No 6\n",
    "'''import mysql.connector\n",
    "\n",
    "\n",
    "mydb = mysql.connector.connect(\n",
    "    host=\"localhost\",\n",
    "    user=\"abc\",\n",
    "    password=\"password\",\n",
    "    database=\"database\"\n",
    ")\n",
    "\n",
    "# Creating a cursor object using cursor() method\n",
    "mycursor = mydb.cursor()\n",
    "\n",
    "# Executing a SQL query using execute() method\n",
    "mycursor.execute(\"SELECT * FROM test2.test_table\")\n",
    "\n",
    "# Fetching results from the executed query\n",
    "result = mycursor.fetchall()\n",
    "\n",
    "# Displaying the fetched results\n",
    "for i in result:\n",
    "    print(i)\n",
    "\n",
    "# Closing the cursor and database connection\n",
    "mycursor.close()\n",
    "mydb.close()'''\n"
   ]
  },
  {
   "cell_type": "code",
   "execution_count": null,
   "id": "07901ad6",
   "metadata": {},
   "outputs": [],
   "source": [
    "# Question No 7\n",
    "In SQL, when you write a query that includes multiple clauses,\n",
    "they are generally executed in a specific order of operations to ensure correct results.\n",
    "Here is the typical order of execution for SQL clauses within a single query:\n",
    "    \n"
   ]
  }
 ],
 "metadata": {
  "kernelspec": {
   "display_name": "Python 3 (ipykernel)",
   "language": "python",
   "name": "python3"
  },
  "language_info": {
   "codemirror_mode": {
    "name": "ipython",
    "version": 3
   },
   "file_extension": ".py",
   "mimetype": "text/x-python",
   "name": "python",
   "nbconvert_exporter": "python",
   "pygments_lexer": "ipython3",
   "version": "3.11.5"
  }
 },
 "nbformat": 4,
 "nbformat_minor": 5
}
